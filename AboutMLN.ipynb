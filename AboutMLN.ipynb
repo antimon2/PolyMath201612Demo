{
 "cells": [
  {
   "cell_type": "markdown",
   "metadata": {
    "slideshow": {
     "slide_type": "slide"
    }
   },
   "source": [
    "# 機械学習のススメ<br><small>簡単なデモと事例紹介</small>"
   ]
  },
  {
   "cell_type": "markdown",
   "metadata": {},
   "source": [
    "<p style=\"text-align:center;font-size:150%;line-height:150%\">2016/12/08 次世代産業の数理 スタディグループ 二日目<br>(有)来栖川電算　後藤 俊介</p>"
   ]
  },
  {
   "cell_type": "markdown",
   "metadata": {
    "slideshow": {
     "slide_type": "slide"
    }
   },
   "source": [
    "# 自己紹介"
   ]
  },
  {
   "cell_type": "markdown",
   "metadata": {
    "slideshow": {
     "slide_type": "subslide"
    }
   },
   "source": [
    "## 自己紹介1"
   ]
  },
  {
   "cell_type": "markdown",
   "metadata": {},
   "source": [
    "+ 名前：後藤 俊介\n",
    "+ 所属：**有限会社 来栖川電算**\n",
    "+ 言語：Python, Julia, Ruby, Scala（勉強中）, …\n",
    "+ twitter: [@antimon2](https://twitter.com/antimon2 \"あんちもん2(@antimon2)さん | Twitter\")\n",
    "+ Facebook: [antimon2](https://www.facebook.com/antimon2 \"後藤 俊介\")\n",
    "+ GitHub: [antimon2](https://github.com/antimon2/ \"antimon2 (GOTOH Shunsuke)\")\n",
    "+ Qiita: [@antimon2](http://qiita.com/antimon2)"
   ]
  },
  {
   "cell_type": "markdown",
   "metadata": {
    "slideshow": {
     "slide_type": "subslide"
    }
   },
   "source": [
    "## 自己紹介2"
   ]
  },
  {
   "cell_type": "markdown",
   "metadata": {},
   "source": [
    "+ 出身：名古屋大学大学院 多元数理科学研究科\n",
    "    + 最終学歴：博士前期課程修了(1999)　数学修士\n",
    "    + 現役時代の専攻：組合せ数学(代数的組合せ論、グラフ理論)\n",
    "    + 修論のタイトル：Planer Vertex-transitive Graph の Hamiltonian 性"
   ]
  },
  {
   "cell_type": "markdown",
   "metadata": {
    "slideshow": {
     "slide_type": "subslide"
    }
   },
   "source": [
    "## 自己紹介3"
   ]
  },
  {
   "cell_type": "markdown",
   "metadata": {},
   "source": [
    "+ 所属コミュニティ：\n",
    "    + **[機械学習 名古屋](http://machine-learning.connpass.com/)**（共同管理者の1人）\n",
    "    + [Python東海](http://connpass.com/series/292/)\n",
    "    + [Ruby東海](https://rubytokai.doorkeeper.jp/)\n",
    "    + [『FP in Scala』読書会@名古屋](http://fp-in-scala-nagoya.connpass.com/)\n",
    "    + …"
   ]
  },
  {
   "cell_type": "markdown",
   "metadata": {
    "slideshow": {
     "slide_type": "slide"
    }
   },
   "source": [
    "# [<img src=\"./krs-logo3.png\" width=\"560\" />](http://kurusugawa.jp/ \"有限会社 来栖川電算\")"
   ]
  },
  {
   "cell_type": "markdown",
   "metadata": {},
   "source": [
    "http://kurusugawa.jp/"
   ]
  },
  {
   "cell_type": "markdown",
   "metadata": {
    "slideshow": {
     "slide_type": "subslide"
    }
   },
   "source": [
    "## 会社概要"
   ]
  },
  {
   "cell_type": "markdown",
   "metadata": {},
   "source": [
    "+ 名古屋工業大学発ベンチャー（2003年）\n",
    "+ 「SF世界の技術を実現し、社会に役立てる」\n",
    "    + 人工知能技術のライセンス販売・研究・SI\n",
    "    + スマホアプリの企画・制作・運営\n",
    "+ スタッフ：38名（アルバイト18名、家政婦1名含む）\n"
   ]
  },
  {
   "cell_type": "markdown",
   "metadata": {
    "slideshow": {
     "slide_type": "notes"
    }
   },
   "source": [
    "※ 2016/12/07 現在。"
   ]
  },
  {
   "cell_type": "markdown",
   "metadata": {
    "slideshow": {
     "slide_type": "slide"
    }
   },
   "source": [
    "## 事業内容・技術紹介"
   ]
  },
  {
   "cell_type": "markdown",
   "metadata": {},
   "source": [
    "+ 様々な認識技術\n",
    "    + 文字認識、物体認識、モーション認識\n",
    "+ 限界性能を引き出す優れた実装技術\n",
    "    + 機械学習・コンパイラ・データベース・仮想機械などのアルゴリズムとバイナリハック\n",
    "    + 高速化，並列化，分散化，省空間化，高精度化\n",
    "+ ビジネスを差別化する認識エコシステム\n",
    "    + スケールに応じた仕組，競争力の自動強化"
   ]
  },
  {
   "cell_type": "markdown",
   "metadata": {
    "slideshow": {
     "slide_type": "slide"
    }
   },
   "source": [
    "### 情景画像文字認識"
   ]
  },
  {
   "cell_type": "markdown",
   "metadata": {
    "slideshow": {
     "slide_type": "subslide"
    }
   },
   "source": [
    "例：\n",
    "\n",
    "<img src=\"./char_recog.jpg\" width=\"640\">"
   ]
  },
  {
   "cell_type": "markdown",
   "metadata": {
    "slideshow": {
     "slide_type": "subslide"
    }
   },
   "source": [
    "+ スマホで撮った看板などの文字認識\n",
    "    + OCR（白地の平らな面に書かれた綺麗な文字を読む）とは違う！\n",
    "+ 使える場面\n",
    "    + 屋外でのスマホカメラを使った棚卸し\n",
    "    + 車載カメラからの標識認識\n",
    "    + 商品パッケージからの成分情報抽出\n"
   ]
  },
  {
   "cell_type": "markdown",
   "metadata": {
    "slideshow": {
     "slide_type": "subslide"
    }
   },
   "source": [
    "#### 事例：タンゴチュウ"
   ]
  },
  {
   "cell_type": "markdown",
   "metadata": {},
   "source": [
    "[<img src=\"./tangochu.jpg\" width=\"640\"><br>http://tangochu.jp/](http://tangochu.jp/)"
   ]
  },
  {
   "cell_type": "markdown",
   "metadata": {
    "slideshow": {
     "slide_type": "notes"
    }
   },
   "source": [
    "※ Twitter で情景画像文字認識を体験できるサービス  \n",
    "※ 余裕があればデモ"
   ]
  },
  {
   "cell_type": "markdown",
   "metadata": {
    "slideshow": {
     "slide_type": "slide"
    }
   },
   "source": [
    "### 物体認識"
   ]
  },
  {
   "cell_type": "markdown",
   "metadata": {
    "slideshow": {
     "slide_type": "subslide"
    }
   },
   "source": [
    "例：\n",
    "\n",
    "<img src=\"./obj_recog.jpg\" width=\"640\">"
   ]
  },
  {
   "cell_type": "markdown",
   "metadata": {
    "slideshow": {
     "slide_type": "subslide"
    }
   },
   "source": [
    "+ 画像中の物体の種類・位置・姿勢を推定\n",
    "    + 簡単操作と高い認識精度がウリ\n",
    "+ 使える場面\n",
    "    + 工場内で箱の仕分け\n",
    "    + ワインラベルで情報検索\n",
    "    + スマホカメラと連動したキャンペーン応募\n"
   ]
  },
  {
   "cell_type": "markdown",
   "metadata": {
    "slideshow": {
     "slide_type": "subslide"
    }
   },
   "source": [
    "#### 事例：運転補助"
   ]
  },
  {
   "cell_type": "markdown",
   "metadata": {},
   "source": [
    "<img src=\"./drive_support.jpg\" width=\"640\">"
   ]
  },
  {
   "cell_type": "markdown",
   "metadata": {
    "slideshow": {
     "slide_type": "notes"
    }
   },
   "source": [
    "※ 車載カメラに映る車や人などを検出・識別・追跡"
   ]
  },
  {
   "cell_type": "markdown",
   "metadata": {
    "slideshow": {
     "slide_type": "slide"
    }
   },
   "source": [
    "### モーション認識"
   ]
  },
  {
   "cell_type": "markdown",
   "metadata": {
    "slideshow": {
     "slide_type": "subslide"
    }
   },
   "source": [
    "例：\n",
    "\n",
    "<img src=\"./motion_recog.png\" width=\"640\">"
   ]
  },
  {
   "cell_type": "markdown",
   "metadata": {
    "slideshow": {
     "slide_type": "subslide"
    }
   },
   "source": [
    "+ センサー値から動作や行動の種類や発生時刻を推定\n",
    "    + 静止、歩き、走り、自転車、睡眠、食事 …\n",
    "+ 使える場面\n",
    "    + スマホ・スマートウォッチなどの行動認識アプリ\n"
   ]
  },
  {
   "cell_type": "markdown",
   "metadata": {
    "slideshow": {
     "slide_type": "subslide"
    }
   },
   "source": [
    "#### 事例：毎朝体操"
   ]
  },
  {
   "cell_type": "markdown",
   "metadata": {},
   "source": [
    "<img src=\"./maiasa_taiso.png\" width=\"640\">"
   ]
  },
  {
   "cell_type": "markdown",
   "metadata": {
    "slideshow": {
     "slide_type": "notes"
    }
   },
   "source": [
    "※ スマホを持って音楽に合わせて体操 ⇒ 採点"
   ]
  },
  {
   "cell_type": "markdown",
   "metadata": {
    "slideshow": {
     "slide_type": "slide"
    }
   },
   "source": [
    "# 機械学習 名古屋 勉強会 の紹介"
   ]
  },
  {
   "cell_type": "markdown",
   "metadata": {},
   "source": [
    "[![機械学習　名古屋 - connpass](MLN_connpass.jpg)](http://machine-learning.connpass.com/ \"機械学習　名古屋 - connpass\")"
   ]
  },
  {
   "cell_type": "markdown",
   "metadata": {
    "slideshow": {
     "slide_type": "notes"
    }
   },
   "source": [
    "※機械学習 名古屋 勉強会 主催（共催）してます！"
   ]
  },
  {
   "cell_type": "markdown",
   "metadata": {
    "slideshow": {
     "slide_type": "subslide"
    }
   },
   "source": [
    "## 活動実績"
   ]
  },
  {
   "cell_type": "markdown",
   "metadata": {},
   "source": [
    "+ [第1回（2015/10/03）](http://machine-learning.connpass.com/event/19347/), [第2回（2015/11/28）](http://machine-learning.connpass.com/event/21252/), [第3回（2016/04/16）](http://machine-learning.connpass.com/event/27530/), [第4回（2016/05/21）](http://machine-learning.connpass.com/event/30350/), [第5回（2016/07/02）](http://machine-learning.connpass.com/event/32748/), [第6回（2016/09/10）](http://machine-learning.connpass.com/event/37032/), [第7回（2016/10/15）](http://machine-learning.connpass.com/event/40222/)\n",
    "\t+ 第2〜6回は 講義 ＋ ミニハンズオン（＋時間が余ったら発表）。\n",
    "    + 第7回は [東建ホール](http://www.token-hall.com/) で発表大会（参加者70名！）\n",
    "\t+ 次回からはより実践的な内容に入ります（予定）！\n"
   ]
  },
  {
   "cell_type": "markdown",
   "metadata": {
    "slideshow": {
     "slide_type": "subslide"
    }
   },
   "source": [
    "## いっしょに学ぼう！"
   ]
  },
  {
   "cell_type": "markdown",
   "metadata": {},
   "source": [
    "+ 「（ビジネス等で）使える機械学習」を勉強・情報共有したい。\n",
    "+ やりたいことはあるのだけれど**どうすれば良いか分からない**。\n",
    "+ 相談する人・場所・機会が欲しい。**仲間が欲しい**。\n",
    "\n",
    "→ ぜひ、いっしょに学びましょう！"
   ]
  },
  {
   "cell_type": "markdown",
   "metadata": {
    "slideshow": {
     "slide_type": "skip"
    }
   },
   "source": [
    "## 参考"
   ]
  },
  {
   "cell_type": "markdown",
   "metadata": {
    "slideshow": {
     "slide_type": "slide"
    }
   },
   "source": [
    "## おしまい"
   ]
  },
  {
   "cell_type": "markdown",
   "metadata": {},
   "source": [
    "ご清聴ありがとうございました。"
   ]
  },
  {
   "cell_type": "code",
   "execution_count": 1,
   "metadata": {
    "collapsed": false,
    "slideshow": {
     "slide_type": "notes"
    }
   },
   "outputs": [
    {
     "data": {
      "text/html": [
       "<style>\n",
       "table.cmp-tbl{}\n",
       "table.cmp-tbl tr{}\n",
       "table.cmp-tbl tr th{text-align:center;background:#eee}\n",
       "table.cmp-tbl tr td{text-align:center}\n",
       ".reveal>.state-background,.reveal>.backgrounds>.slide-background{background-color:#ebfeff}\n",
       ".reveal .rendered_html pre,.reveal .rendered_html code{background-color:#eee}\n",
       ".reveal .rendered_html table, .reveal .rendered_html blockquote{background-color:#f8ffff}\n",
       ".reveal .rendered_html h1,.reveal .rendered_html h2,.reveal .rendered_html h3,.reveal .rendered_html h4,.reveal .rendered_html strong{color:#0f7c80}\n",
       "</style>"
      ],
      "text/plain": [
       "<IPython.core.display.HTML object>"
      ]
     },
     "execution_count": 1,
     "metadata": {},
     "output_type": "execute_result"
    }
   ],
   "source": [
    "from IPython.core.display import HTML\n",
    "HTML(r\"\"\"<style>\n",
    "table.cmp-tbl{}\n",
    "table.cmp-tbl tr{}\n",
    "table.cmp-tbl tr th{text-align:center;background:#eee}\n",
    "table.cmp-tbl tr td{text-align:center}\n",
    ".reveal>.state-background,.reveal>.backgrounds>.slide-background{background-color:#ebfeff}\n",
    ".reveal .rendered_html pre,.reveal .rendered_html code{background-color:#eee}\n",
    ".reveal .rendered_html table, .reveal .rendered_html blockquote{background-color:#f8ffff}\n",
    ".reveal .rendered_html h1,.reveal .rendered_html h2,.reveal .rendered_html h3,.reveal .rendered_html h4,.reveal .rendered_html strong{color:#0f7c80}\n",
    "</style>\"\"\")"
   ]
  }
 ],
 "metadata": {
  "celltoolbar": "Slideshow",
  "kernelspec": {
   "display_name": "Python 2",
   "language": "python",
   "name": "python2"
  },
  "language_info": {
   "codemirror_mode": {
    "name": "ipython",
    "version": 2
   },
   "file_extension": ".py",
   "mimetype": "text/x-python",
   "name": "python",
   "nbconvert_exporter": "python",
   "pygments_lexer": "ipython2",
   "version": "2.7.9"
  }
 },
 "nbformat": 4,
 "nbformat_minor": 0
}
